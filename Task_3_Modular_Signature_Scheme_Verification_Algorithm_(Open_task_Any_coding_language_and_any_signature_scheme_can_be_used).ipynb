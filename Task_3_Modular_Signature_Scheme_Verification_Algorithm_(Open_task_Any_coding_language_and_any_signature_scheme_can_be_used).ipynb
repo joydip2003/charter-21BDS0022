{
  "nbformat": 4,
  "nbformat_minor": 0,
  "metadata": {
    "colab": {
      "provenance": []
    },
    "kernelspec": {
      "name": "python3",
      "display_name": "Python 3"
    },
    "language_info": {
      "name": "python"
    }
  },
  "cells": [
    {
      "cell_type": "code",
      "execution_count": 13,
      "metadata": {
        "id": "9gmJiDP1z9L6"
      },
      "outputs": [],
      "source": [
        "#Joydip_Talukder_Task 3 : Modular Signature Scheme Verification Algorithm (Open task - Any coding language and any signature scheme can be used)\n",
        "def signature_verifier(signer: str, data: bytes, signed_hash: bytes, scheme_type: str) -> bool:\n",
        "    pass"
      ]
    },
    {
      "cell_type": "code",
      "source": [
        "# Assuming the ECDSA signature format\n",
        "# First, define 'data'. Replace with the actual signature data\n",
        "data = b'\\x00\\x01\\x02...'  # Example: Replace with your actual data\n",
        "\n",
        "# Now you can access 'data'\n",
        "v = data[-1]         # recovery id\n",
        "r = int.from_bytes(data[:32], 'big')\n",
        "s = int.from_bytes(data[32:64], 'big')"
      ],
      "metadata": {
        "id": "SXXUBSEA0_2l"
      },
      "execution_count": 5,
      "outputs": []
    },
    {
      "cell_type": "code",
      "source": [
        "!pip install ecdsa\n",
        "import ecdsa\n",
        "\n",
        "def verify_ecdsa_signature(signer, signed_hash, r, s, v):\n",
        "    # Initialize the ECDSA key and verify signature\n",
        "    vk = ecdsa.VerifyingKey.from_string(bytes.fromhex(signer), curve=ecdsa.SECP256k1)\n",
        "    try:\n",
        "        return vk.verify_digest((r, s), signed_hash)\n",
        "    except ecdsa.BadSignatureError:\n",
        "        return False\n"
      ],
      "metadata": {
        "colab": {
          "base_uri": "https://localhost:8080/"
        },
        "id": "EU4enV4c1Sp4",
        "outputId": "bbe764bc-ba51-4d8c-920c-8f862b649409"
      },
      "execution_count": 7,
      "outputs": [
        {
          "output_type": "stream",
          "name": "stdout",
          "text": [
            "Collecting ecdsa\n",
            "  Downloading ecdsa-0.19.0-py2.py3-none-any.whl.metadata (29 kB)\n",
            "Requirement already satisfied: six>=1.9.0 in /usr/local/lib/python3.10/dist-packages (from ecdsa) (1.16.0)\n",
            "Downloading ecdsa-0.19.0-py2.py3-none-any.whl (149 kB)\n",
            "\u001b[2K   \u001b[90m━━━━━━━━━━━━━━━━━━━━━━━━━━━━━━━━━━━━━━━━\u001b[0m \u001b[32m149.3/149.3 kB\u001b[0m \u001b[31m4.3 MB/s\u001b[0m eta \u001b[36m0:00:00\u001b[0m\n",
            "\u001b[?25hInstalling collected packages: ecdsa\n",
            "Successfully installed ecdsa-0.19.0\n"
          ]
        }
      ]
    },
    {
      "cell_type": "code",
      "source": [
        "import ecdsa\n",
        "\n",
        "def signature_verifier(signer: str, data: bytes, signed_hash: bytes, scheme_type: str) -> bool:\n",
        "    if scheme_type == \"ecdsa\":\n",
        "        # Parse the signature for ECDSA (assuming a common structure with r, s, v)\n",
        "        r = int.from_bytes(data[:32], 'big')\n",
        "        s = int.from_bytes(data[32:64], 'big')\n",
        "        v = data[-1]  # recovery id\n",
        "\n",
        "        return verify_ecdsa_signature(signer, signed_hash, r, s, v)\n",
        "\n",
        "    elif scheme_type == \"schnorr\":\n",
        "        # Schnorr verification logic would go here if implemented\n",
        "        pass\n",
        "\n",
        "    else:\n",
        "        # Unsupported signature scheme\n",
        "        return False\n",
        "\n",
        "def verify_ecdsa_signature(signer, signed_hash, r, s, v):\n",
        "    vk = ecdsa.VerifyingKey.from_string(bytes.fromhex(signer), curve=ecdsa.SECP256k1)\n",
        "    try:\n",
        "        return vk.verify_digest((r, s), signed_hash)\n",
        "    except ecdsa.BadSignatureError:\n",
        "        return False\n"
      ],
      "metadata": {
        "id": "kZA4XLbf1gse"
      },
      "execution_count": 8,
      "outputs": []
    },
    {
      "cell_type": "code",
      "source": [
        "import ecdsa\n",
        "import hashlib\n",
        "\n",
        "# ... (other functions) ...\n",
        "\n",
        "def verify_ecdsa_signature(signer, signed_hash, r, s, v):\n",
        "    vk = ecdsa.VerifyingKey.from_string(bytes.fromhex(signer), curve=ecdsa.SECP256k1)\n",
        "    try:\n",
        "        # Convert r and s to bytes and concatenate them\n",
        "        signature = r.to_bytes(32, 'big') + s.to_bytes(32, 'big')\n",
        "        return vk.verify_digest(signature, signed_hash, sigdecode=ecdsa.util.sigdecode_string) # Pass sigdecode argument\n",
        "    except ecdsa.BadSignatureError:\n",
        "        return False\n",
        "\n",
        "\n",
        "\n",
        "# Generate a test ECDSA key pair\n",
        "def generate_test_keypair():\n",
        "    sk = ecdsa.SigningKey.generate(curve=ecdsa.SECP256k1)\n",
        "    vk = sk.verifying_key\n",
        "    return sk, vk\n",
        "\n",
        "# Create a test case for valid ECDSA signature\n",
        "def test_valid_ecdsa_signature():\n",
        "    sk, vk = generate_test_keypair()\n",
        "    signer = vk.to_string().hex()  # Mocked public key as hex\n",
        "    message = b\"Test message\"\n",
        "    signed_hash = hashlib.sha256(message).digest()  # Hash of the message\n",
        "\n",
        "    # Sign the message hash\n",
        "    signature = sk.sign_digest(signed_hash)\n",
        "    # Split the signature into r and s values for ECDSA format\n",
        "    r = signature[:32]\n",
        "    s = signature[32:64]\n",
        "    v = b'\\x00'  # Example recovery ID (not used in Python ecdsa lib)\n",
        "\n",
        "    data = r + s + v  # Concatenate r, s, and v for test case\n",
        "\n",
        "    # Verify using our function\n",
        "    is_valid = signature_verifier(signer, data, signed_hash, \"ecdsa\")\n",
        "    print(\"Test valid ECDSA signature:\", \"Passed\" if is_valid else \"Failed\")\n",
        "\n",
        "# Create a test case for invalid ECDSA signature\n",
        "def test_invalid_ecdsa_signature():\n",
        "    sk, vk = generate_test_keypair()\n",
        "    signer = vk.to_string().hex()\n",
        "    message = b\"Test message\"\n",
        "    signed_hash = hashlib.sha256(message).digest()\n",
        "\n",
        "    # Sign the message hash\n",
        "    signature = sk.sign_digest(signed_hash)\n",
        "    r = signature[:32]\n",
        "    s = signature[32:64]\n",
        "    v = b'\\x01'  # Incorrect recovery ID for invalid test\n",
        "\n",
        "    data = r + s + v  # Concatenate r, s, and v\n",
        "\n",
        "    # Verify with an incorrect v to simulate an invalid signature\n",
        "    is_valid = signature_verifier(signer, data, signed_hash, \"ecdsa\")\n",
        "    print(\"Test invalid ECDSA signature:\", \"Passed\" if not is_valid else \"Failed\")\n",
        "\n",
        "# Create a test case for unsupported scheme\n",
        "def test_unsupported_scheme():\n",
        "    sk, vk = generate_test_keypair()\n",
        "    signer = vk.to_string().hex()\n",
        "    message = b\"Test message\"\n",
        "    signed_hash = hashlib.sha256(message).digest()\n",
        "\n",
        "    # Sign the message hash\n",
        "    signature = sk.sign_digest(signed_hash)\n",
        "    r = signature[:32]\n",
        "    s = signature[32:64]\n",
        "    v = b'\\x00'\n",
        "\n",
        "    data = r + s + v\n",
        "\n",
        "    # Attempt to verify with unsupported scheme\n",
        "    is_valid = signature_verifier(signer, data, signed_hash, \"schnorr\")\n",
        "    print(\"Test unsupported scheme:\", \"Passed\" if not is_valid else \"Failed\")\n",
        "\n",
        "# Run the test cases\n",
        "test_valid_ecdsa_signature()\n",
        "test_invalid_ecdsa_signature()\n",
        "test_unsupported_scheme()\n"
      ],
      "metadata": {
        "colab": {
          "base_uri": "https://localhost:8080/"
        },
        "id": "CSfpAHl81mAL",
        "outputId": "4618993d-0c4b-4f07-9c76-d15a42fa3d62"
      },
      "execution_count": 12,
      "outputs": [
        {
          "output_type": "stream",
          "name": "stdout",
          "text": [
            "Test valid ECDSA signature: Failed\n",
            "Test invalid ECDSA signature: Passed\n",
            "Test unsupported scheme: Passed\n"
          ]
        }
      ]
    },
    {
      "source": [],
      "cell_type": "code",
      "metadata": {
        "id": "AEYR0_fw2uFw"
      },
      "execution_count": null,
      "outputs": []
    }
  ]
}